{
 "cells": [
  {
   "cell_type": "code",
   "execution_count": 2,
   "metadata": {},
   "outputs": [
    {
     "name": "stdout",
     "output_type": "stream",
     "text": [
      "    0         1         2         3         4         5         6         7   \\\n",
      "0  1.0  0.869293 -0.635082  0.225690  0.327470 -0.689993  0.754202 -0.248573   \n",
      "1  1.0  0.907542  0.329147  0.359412  1.497970 -0.313010  1.095531 -0.557525   \n",
      "2  1.0  0.798835  1.470639 -1.635975  0.453773  0.425629  1.104875  1.282322   \n",
      "3  0.0  1.344385 -0.876626  0.935913  1.992050  0.882454  1.786066 -1.646778   \n",
      "4  1.0  1.105009  0.321356  1.522401  0.882808 -1.205349  0.681466 -1.070464   \n",
      "\n",
      "         8         9   ...        19        20        21        22        23  \\\n",
      "0 -1.092064  0.000000  ... -0.010455 -0.045767  3.101961  1.353760  0.979563   \n",
      "1 -1.588230  2.173076  ... -1.138930 -0.000819  0.000000  0.302220  0.833048   \n",
      "2  1.381664  0.000000  ...  1.128848  0.900461  0.000000  0.909753  1.108330   \n",
      "3 -0.942383  0.000000  ... -0.678379 -1.360356  0.000000  0.946652  1.028704   \n",
      "4 -0.921871  0.000000  ... -0.373566  0.113041  0.000000  0.755856  1.361057   \n",
      "\n",
      "         24        25        26        27        28  \n",
      "0  0.978076  0.920005  0.721657  0.988751  0.876678  \n",
      "1  0.985700  0.978098  0.779732  0.992356  0.798343  \n",
      "2  0.985692  0.951331  0.803252  0.865924  0.780118  \n",
      "3  0.998656  0.728281  0.869200  1.026736  0.957904  \n",
      "4  0.986610  0.838085  1.133295  0.872245  0.808487  \n",
      "\n",
      "[5 rows x 29 columns]\n",
      "<class 'pandas.core.frame.DataFrame'>\n",
      "RangeIndex: 100001 entries, 0 to 100000\n",
      "Data columns (total 29 columns):\n",
      " #   Column  Non-Null Count   Dtype  \n",
      "---  ------  --------------   -----  \n",
      " 0   0       100001 non-null  float64\n",
      " 1   1       100001 non-null  float64\n",
      " 2   2       100001 non-null  float64\n",
      " 3   3       100001 non-null  float64\n",
      " 4   4       100001 non-null  float64\n",
      " 5   5       100001 non-null  float64\n",
      " 6   6       100001 non-null  float64\n",
      " 7   7       100001 non-null  float64\n",
      " 8   8       100001 non-null  float64\n",
      " 9   9       100001 non-null  float64\n",
      " 10  10      100001 non-null  float64\n",
      " 11  11      100001 non-null  float64\n",
      " 12  12      100001 non-null  float64\n",
      " 13  13      100001 non-null  float64\n",
      " 14  14      100001 non-null  float64\n",
      " 15  15      100001 non-null  float64\n",
      " 16  16      100001 non-null  float64\n",
      " 17  17      100001 non-null  float64\n",
      " 18  18      100001 non-null  float64\n",
      " 19  19      100001 non-null  float64\n",
      " 20  20      100001 non-null  float64\n",
      " 21  21      100001 non-null  float64\n",
      " 22  22      100001 non-null  float64\n",
      " 23  23      100001 non-null  float64\n",
      " 24  24      100001 non-null  float64\n",
      " 25  25      100001 non-null  float64\n",
      " 26  26      100001 non-null  float64\n",
      " 27  27      100001 non-null  float64\n",
      " 28  28      100001 non-null  float64\n",
      "dtypes: float64(29)\n",
      "memory usage: 22.1 MB\n",
      "None\n"
     ]
    }
   ],
   "source": [
    "import pandas as pd\n",
    "import numpy as np\n",
    "import matplotlib.pyplot as plt\n",
    "import seaborn as sns\n",
    "\n",
    "# Carregar o dataset\n",
    "data = pd.read_csv('HIGGS_100k.csv', header = None)\n",
    "\n",
    "# Visualizar as primeiras linhas do dataset\n",
    "print(data.head())\n",
    "\n",
    "print(data.info())"
   ]
  },
  {
   "cell_type": "code",
   "execution_count": 4,
   "metadata": {},
   "outputs": [],
   "source": [
    "from sklearn.preprocessing import MinMaxScaler\n",
    "from sklearn.model_selection import train_test_split\n",
    "\n",
    "# Separar os rótulos (primeira coluna) e os dados (restantes)\n",
    "X = data.iloc[:, 1:22].values  # Usar apenas as 21 low-level features\n",
    "y = data.iloc[:, 0].values\n",
    "\n",
    "# Normalizar os dados\n",
    "scaler = MinMaxScaler()\n",
    "X_scaled = scaler.fit_transform(X)\n",
    "\n",
    "# Dividir os dados em conjunto de treino e validação\n",
    "X_train, X_val, y_train, y_val = train_test_split(X_scaled, y, test_size=0.2, random_state=42)\n"
   ]
  },
  {
   "cell_type": "code",
   "execution_count": 5,
   "metadata": {},
   "outputs": [
    {
     "ename": "ModuleNotFoundError",
     "evalue": "No module named 'keras'",
     "output_type": "error",
     "traceback": [
      "\u001b[1;31m---------------------------------------------------------------------------\u001b[0m",
      "\u001b[1;31mModuleNotFoundError\u001b[0m                       Traceback (most recent call last)",
      "Cell \u001b[1;32mIn[5], line 1\u001b[0m\n\u001b[1;32m----> 1\u001b[0m \u001b[38;5;28;01mfrom\u001b[39;00m \u001b[38;5;21;01mkeras\u001b[39;00m\u001b[38;5;21;01m.\u001b[39;00m\u001b[38;5;21;01mmodels\u001b[39;00m \u001b[38;5;28;01mimport\u001b[39;00m Sequential\n\u001b[0;32m      2\u001b[0m \u001b[38;5;28;01mfrom\u001b[39;00m \u001b[38;5;21;01mkeras\u001b[39;00m\u001b[38;5;21;01m.\u001b[39;00m\u001b[38;5;21;01mlayers\u001b[39;00m \u001b[38;5;28;01mimport\u001b[39;00m Dense, Dropout\n\u001b[0;32m      4\u001b[0m \u001b[38;5;66;03m# Definir a estrutura da rede neural\u001b[39;00m\n",
      "\u001b[1;31mModuleNotFoundError\u001b[0m: No module named 'keras'"
     ]
    }
   ],
   "source": [
    "from keras.models import Sequential\n",
    "from keras.layers import Dense, Dropout\n",
    "\n",
    "# Definir a estrutura da rede neural\n",
    "model = Sequential()\n",
    "model.add(Dense(64, input_dim=21, activation='relu'))\n",
    "model.add(Dropout(0.2))\n",
    "model.add(Dense(32, activation='relu'))\n",
    "model.add(Dense(1, activation='sigmoid'))\n"
   ]
  }
 ],
 "metadata": {
  "kernelspec": {
   "display_name": "Python 3",
   "language": "python",
   "name": "python3"
  },
  "language_info": {
   "codemirror_mode": {
    "name": "ipython",
    "version": 3
   },
   "file_extension": ".py",
   "mimetype": "text/x-python",
   "name": "python",
   "nbconvert_exporter": "python",
   "pygments_lexer": "ipython3",
   "version": "3.12.2"
  }
 },
 "nbformat": 4,
 "nbformat_minor": 2
}
