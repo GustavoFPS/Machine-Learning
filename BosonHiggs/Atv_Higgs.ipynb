{
 "cells": [
  {
   "cell_type": "code",
   "execution_count": 2,
   "metadata": {},
   "outputs": [
    {
     "name": "stdout",
     "output_type": "stream",
     "text": [
      "    0         1         2         3         4         5         6         7   \\\n",
      "0  1.0  0.869293 -0.635082  0.225690  0.327470 -0.689993  0.754202 -0.248573   \n",
      "1  1.0  0.907542  0.329147  0.359412  1.497970 -0.313010  1.095531 -0.557525   \n",
      "2  1.0  0.798835  1.470639 -1.635975  0.453773  0.425629  1.104875  1.282322   \n",
      "3  0.0  1.344385 -0.876626  0.935913  1.992050  0.882454  1.786066 -1.646778   \n",
      "4  1.0  1.105009  0.321356  1.522401  0.882808 -1.205349  0.681466 -1.070464   \n",
      "\n",
      "         8         9   ...        19        20        21        22        23  \\\n",
      "0 -1.092064  0.000000  ... -0.010455 -0.045767  3.101961  1.353760  0.979563   \n",
      "1 -1.588230  2.173076  ... -1.138930 -0.000819  0.000000  0.302220  0.833048   \n",
      "2  1.381664  0.000000  ...  1.128848  0.900461  0.000000  0.909753  1.108330   \n",
      "3 -0.942383  0.000000  ... -0.678379 -1.360356  0.000000  0.946652  1.028704   \n",
      "4 -0.921871  0.000000  ... -0.373566  0.113041  0.000000  0.755856  1.361057   \n",
      "\n",
      "         24        25        26        27        28  \n",
      "0  0.978076  0.920005  0.721657  0.988751  0.876678  \n",
      "1  0.985700  0.978098  0.779732  0.992356  0.798343  \n",
      "2  0.985692  0.951331  0.803252  0.865924  0.780118  \n",
      "3  0.998656  0.728281  0.869200  1.026736  0.957904  \n",
      "4  0.986610  0.838085  1.133295  0.872245  0.808487  \n",
      "\n",
      "[5 rows x 29 columns]\n",
      "<class 'pandas.core.frame.DataFrame'>\n",
      "RangeIndex: 100001 entries, 0 to 100000\n",
      "Data columns (total 29 columns):\n",
      " #   Column  Non-Null Count   Dtype  \n",
      "---  ------  --------------   -----  \n",
      " 0   0       100001 non-null  float64\n",
      " 1   1       100001 non-null  float64\n",
      " 2   2       100001 non-null  float64\n",
      " 3   3       100001 non-null  float64\n",
      " 4   4       100001 non-null  float64\n",
      " 5   5       100001 non-null  float64\n",
      " 6   6       100001 non-null  float64\n",
      " 7   7       100001 non-null  float64\n",
      " 8   8       100001 non-null  float64\n",
      " 9   9       100001 non-null  float64\n",
      " 10  10      100001 non-null  float64\n",
      " 11  11      100001 non-null  float64\n",
      " 12  12      100001 non-null  float64\n",
      " 13  13      100001 non-null  float64\n",
      " 14  14      100001 non-null  float64\n",
      " 15  15      100001 non-null  float64\n",
      " 16  16      100001 non-null  float64\n",
      " 17  17      100001 non-null  float64\n",
      " 18  18      100001 non-null  float64\n",
      " 19  19      100001 non-null  float64\n",
      " 20  20      100001 non-null  float64\n",
      " 21  21      100001 non-null  float64\n",
      " 22  22      100001 non-null  float64\n",
      " 23  23      100001 non-null  float64\n",
      " 24  24      100001 non-null  float64\n",
      " 25  25      100001 non-null  float64\n",
      " 26  26      100001 non-null  float64\n",
      " 27  27      100001 non-null  float64\n",
      " 28  28      100001 non-null  float64\n",
      "dtypes: float64(29)\n",
      "memory usage: 22.1 MB\n",
      "None\n"
     ]
    }
   ],
   "source": [
    "import pandas as pd\n",
    "import numpy as np\n",
    "import matplotlib.pyplot as plt\n",
    "import seaborn as sns\n",
    "\n",
    "# Carregar o dataset\n",
    "data = pd.read_csv('HIGGS_100k.csv', header = None)\n",
    "\n",
    "# Visualizar as primeiras linhas do dataset\n",
    "print(data.head())\n",
    "\n",
    "print(data.info())"
   ]
  },
  {
   "cell_type": "code",
   "execution_count": 4,
   "metadata": {},
   "outputs": [],
   "source": [
    "from sklearn.preprocessing import MinMaxScaler\n",
    "from sklearn.model_selection import train_test_split\n",
    "\n",
    "# Separar os rótulos (primeira coluna) e os dados (restantes)\n",
    "X = data.iloc[:, 1:22].values  # Usar apenas as 21 low-level features\n",
    "y = data.iloc[:, 0].values\n",
    "\n",
    "# Normalizar os dados\n",
    "scaler = MinMaxScaler()\n",
    "X_scaled = scaler.fit_transform(X)\n",
    "\n",
    "# Dividir os dados em conjunto de treino e validação\n",
    "X_train, X_val, y_train, y_val = train_test_split(X_scaled, y, test_size=0.2, random_state=42)\n"
   ]
  },
  {
   "cell_type": "code",
   "execution_count": 17,
   "metadata": {},
   "outputs": [
    {
     "name": "stderr",
     "output_type": "stream",
     "text": [
      "c:\\Users\\Gustavo\\AppData\\Local\\Programs\\Python\\Python312\\Lib\\site-packages\\keras\\src\\layers\\core\\dense.py:87: UserWarning: Do not pass an `input_shape`/`input_dim` argument to a layer. When using Sequential models, prefer using an `Input(shape)` object as the first layer in the model instead.\n",
      "  super().__init__(activity_regularizer=activity_regularizer, **kwargs)\n"
     ]
    }
   ],
   "source": [
    "from keras.models import Sequential\n",
    "from keras.layers import Dense, Dropout\n",
    "from keras.optimizers import Adam\n",
    "\n",
    "# Definir a estrutura da rede neural\n",
    "model = Sequential()\n",
    "model.add(Dense(64, input_dim=21, activation='relu'))\n",
    "model.add(Dropout(0.2))\n",
    "model.add(Dense(32, activation='relu'))\n",
    "model.add(Dense(1, activation='sigmoid'))\n"
   ]
  },
  {
   "cell_type": "code",
   "execution_count": 21,
   "metadata": {},
   "outputs": [
    {
     "name": "stdout",
     "output_type": "stream",
     "text": [
      "Epoch 1/10\n",
      "\u001b[1m800/800\u001b[0m \u001b[32m━━━━━━━━━━━━━━━━━━━━\u001b[0m\u001b[37m\u001b[0m \u001b[1m7s\u001b[0m 5ms/step - accuracy: 0.6204 - loss: 0.2269 - val_accuracy: 0.6255 - val_loss: 0.2258\n",
      "Epoch 2/10\n",
      "\u001b[1m800/800\u001b[0m \u001b[32m━━━━━━━━━━━━━━━━━━━━\u001b[0m\u001b[37m\u001b[0m \u001b[1m4s\u001b[0m 5ms/step - accuracy: 0.6247 - loss: 0.2257 - val_accuracy: 0.6286 - val_loss: 0.2254\n",
      "Epoch 3/10\n",
      "\u001b[1m800/800\u001b[0m \u001b[32m━━━━━━━━━━━━━━━━━━━━\u001b[0m\u001b[37m\u001b[0m \u001b[1m4s\u001b[0m 5ms/step - accuracy: 0.6253 - loss: 0.2254 - val_accuracy: 0.6309 - val_loss: 0.2245\n",
      "Epoch 4/10\n",
      "\u001b[1m800/800\u001b[0m \u001b[32m━━━━━━━━━━━━━━━━━━━━\u001b[0m\u001b[37m\u001b[0m \u001b[1m4s\u001b[0m 4ms/step - accuracy: 0.6235 - loss: 0.2253 - val_accuracy: 0.6269 - val_loss: 0.2252\n",
      "Epoch 5/10\n",
      "\u001b[1m800/800\u001b[0m \u001b[32m━━━━━━━━━━━━━━━━━━━━\u001b[0m\u001b[37m\u001b[0m \u001b[1m4s\u001b[0m 5ms/step - accuracy: 0.6287 - loss: 0.2252 - val_accuracy: 0.6309 - val_loss: 0.2242\n",
      "Epoch 6/10\n",
      "\u001b[1m800/800\u001b[0m \u001b[32m━━━━━━━━━━━━━━━━━━━━\u001b[0m\u001b[37m\u001b[0m \u001b[1m5s\u001b[0m 6ms/step - accuracy: 0.6315 - loss: 0.2240 - val_accuracy: 0.6250 - val_loss: 0.2252\n",
      "Epoch 7/10\n",
      "\u001b[1m800/800\u001b[0m \u001b[32m━━━━━━━━━━━━━━━━━━━━\u001b[0m\u001b[37m\u001b[0m \u001b[1m5s\u001b[0m 5ms/step - accuracy: 0.6301 - loss: 0.2243 - val_accuracy: 0.6306 - val_loss: 0.2238\n",
      "Epoch 8/10\n",
      "\u001b[1m800/800\u001b[0m \u001b[32m━━━━━━━━━━━━━━━━━━━━\u001b[0m\u001b[37m\u001b[0m \u001b[1m4s\u001b[0m 4ms/step - accuracy: 0.6305 - loss: 0.2237 - val_accuracy: 0.6354 - val_loss: 0.2232\n",
      "Epoch 9/10\n",
      "\u001b[1m800/800\u001b[0m \u001b[32m━━━━━━━━━━━━━━━━━━━━\u001b[0m\u001b[37m\u001b[0m \u001b[1m3s\u001b[0m 4ms/step - accuracy: 0.6331 - loss: 0.2229 - val_accuracy: 0.6338 - val_loss: 0.2229\n",
      "Epoch 10/10\n",
      "\u001b[1m800/800\u001b[0m \u001b[32m━━━━━━━━━━━━━━━━━━━━\u001b[0m\u001b[37m\u001b[0m \u001b[1m3s\u001b[0m 3ms/step - accuracy: 0.6315 - loss: 0.2230 - val_accuracy: 0.6353 - val_loss: 0.2233\n"
     ]
    }
   ],
   "source": [
    "optimizer = Adam(learning_rate=0.001, beta_1=0.9, beta_2=0.999)\n",
    "model.compile(optimizer= optimizer, loss = \"MSE\" , metrics=['accuracy'])\n",
    "\n",
    "# Treinar o modelo\n",
    "history = model.fit(X_train, y_train, validation_data=(X_val, y_val), epochs=10, batch_size = 100)\n"
   ]
  },
  {
   "cell_type": "code",
   "execution_count": 22,
   "metadata": {},
   "outputs": [
    {
     "name": "stdout",
     "output_type": "stream",
     "text": [
      "\u001b[1m626/626\u001b[0m \u001b[32m━━━━━━━━━━━━━━━━━━━━\u001b[0m\u001b[37m\u001b[0m \u001b[1m1s\u001b[0m 972us/step - accuracy: 0.6356 - loss: 0.2224\n"
     ]
    },
    {
     "data": {
      "image/png": "[encoded data removed]",
      "text/plain": [
       "<Figure size 640x480 with 1 Axes>"
      ]
     },
     "metadata": {},
     "output_type": "display_data"
    },
    {
     "name": "stdout",
     "output_type": "stream",
     "text": [
      "\u001b[1m626/626\u001b[0m \u001b[32m━━━━━━━━━━━━━━━━━━━━\u001b[0m\u001b[37m\u001b[0m \u001b[1m1s\u001b[0m 755us/step\n",
      "              precision    recall  f1-score   support\n",
      "\n",
      "         0.0       0.63      0.56      0.59      9429\n",
      "         1.0       0.64      0.70      0.67     10572\n",
      "\n",
      "    accuracy                           0.64     20001\n",
      "   macro avg       0.63      0.63      0.63     20001\n",
      "weighted avg       0.63      0.64      0.63     20001\n",
      "\n"
     ]
    },
    {
     "data": {
      "image/png": "[encoded data removed]",
      "text/plain": [
       "<Figure size 640x480 with 2 Axes>"
      ]
     },
     "metadata": {},
     "output_type": "display_data"
    }
   ],
   "source": [
    "import matplotlib.pyplot as plt\n",
    "from sklearn.metrics import classification_report, confusion_matrix\n",
    "\n",
    "# Avaliar o modelo nos dados de validação\n",
    "val_loss, val_accuracy = model.evaluate(X_val, y_val)\n",
    "\n",
    "# Visualizar as métricas de treinamento\n",
    "plt.plot(history.history['accuracy'])\n",
    "plt.plot(history.history['val_accuracy'])\n",
    "plt.title('Model accuracy')\n",
    "plt.ylabel('Accuracy')\n",
    "plt.xlabel('Epoch')\n",
    "plt.legend(['Train', 'Validation'], loc='upper left')\n",
    "plt.ylim(0.55, 0.65)\n",
    "plt.show()\n",
    "\n",
    "# Calcular e imprimir o relatório de classificação\n",
    "y_pred = (model.predict(X_val) > 0.5).astype(\"int32\")\n",
    "print(classification_report(y_val, y_pred))\n",
    "\n",
    "# Matriz de confusão\n",
    "cm = confusion_matrix(y_val, y_pred)\n",
    "sns.heatmap(cm, annot=True, fmt='d')\n",
    "plt.show()\n"
   ]
  },
  {
   "cell_type": "code",
   "execution_count": null,
   "metadata": {},
   "outputs": [],
   "source": [
    "# Verifique se a coluna 'm_wwbb' existe\n",
    "if 'm_wwbb' in data.columns:\n",
    "    # Obter o espectro de massa m_wwbb para as partículas identificadas como sinal e fundo\n",
    "    m_wwbb_signal = data.loc[y_pred[:, 0] == 1, 'm_wwbb']\n",
    "    m_wwbb_background = data.loc[y_pred[:, 0] == 0, 'm_wwbb']\n",
    "\n",
    "    # Histograma para o espectro de massa m_wwbb\n",
    "    plt.hist(m_wwbb_signal, bins=50, alpha=0.5, label='Signal')\n",
    "    plt.hist(m_wwbb_background, bins=50, alpha=0.5, label='Background')\n",
    "    plt.xlabel('m_wwbb')\n",
    "    plt.ylabel('Frequency')\n",
    "    plt.legend(loc='upper right')\n",
    "    plt.show()\n",
    "\n",
    "    # Histograma para os valores originalmente rotulados\n",
    "    m_wwbb_signal_original = data.loc[data['class'] == 1, 'm_wwbb']\n",
    "    m_wwbb_background_original = data.loc[data['class'] == 0, 'm_wwbb']\n",
    "\n",
    "    plt.hist(m_wwbb_signal_original, bins=50, alpha=0.5, label='Original Signal')\n",
    "    plt.hist(m_wwbb_background_original, bins=50, alpha=0.5, label='Original Background')\n",
    "    plt.xlabel('m_wwbb')\n",
    "    plt.ylabel('Frequency')\n",
    "    plt.legend(loc='upper right')\n",
    "    plt.show()\n",
    "else:\n",
    "    print(\"Coluna 'm_wwbb' não encontrada no dataset.\")\n"
   ]
  }
 ],
 "metadata": {
  "kernelspec": {
   "display_name": "Python 3",
   "language": "python",
   "name": "python3"
  },
  "language_info": {
   "codemirror_mode": {
    "name": "ipython",
    "version": 3
   },
   "file_extension": ".py",
   "mimetype": "text/x-python",
   "name": "python",
   "nbconvert_exporter": "python",
   "pygments_lexer": "ipython3",
   "version": "3.12.2"
  }
 },
 "nbformat": 4,
 "nbformat_minor": 2
}
